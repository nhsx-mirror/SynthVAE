{
 "cells": [
  {
   "cell_type": "markdown",
   "id": "1a63fab5",
   "metadata": {},
   "source": [
    "# Heart Data Exploration\n",
    "\n",
    "In this notebook we identify potentially harmful correlations within the dataset as well as any imbalances that may affect our ML training procedure"
   ]
  },
  {
   "cell_type": "code",
   "execution_count": null,
   "id": "04df15f0",
   "metadata": {},
   "outputs": [],
   "source": [
    "import numpy as np\n",
    "import pandas as pd\n",
    "\n",
    "import matplotlib.pyplot as plt"
   ]
  },
  {
   "cell_type": "code",
   "execution_count": null,
   "id": "6bf36612",
   "metadata": {},
   "outputs": [],
   "source": [
    "# Load in the heart csv and perform pre-processing\n",
    "\n",
    "heart_data = pd.read_csv(\"Heart_Data/heart.csv\")"
   ]
  },
  {
   "cell_type": "code",
   "execution_count": null,
   "id": "b9554469",
   "metadata": {},
   "outputs": [],
   "source": [
    "heart_data.head()"
   ]
  },
  {
   "cell_type": "markdown",
   "id": "af996e16",
   "metadata": {},
   "source": [
    "# Check for label imbalance\n",
    "\n",
    "Are the target labels imbalanced"
   ]
  },
  {
   "cell_type": "code",
   "execution_count": null,
   "id": "e94ef36a",
   "metadata": {},
   "outputs": [],
   "source": [
    "print((heart_data['HeartDisease'] == 0).sum())\n",
    "print((heart_data['HeartDisease'] == 1).sum())"
   ]
  },
  {
   "cell_type": "markdown",
   "id": "5cef1c6d",
   "metadata": {},
   "source": [
    "Are key protected columns imbalanced - in this case age & sex"
   ]
  },
  {
   "cell_type": "code",
   "execution_count": null,
   "id": "133cb447",
   "metadata": {},
   "outputs": [],
   "source": [
    "print(heart_data[heart_data.Sex=='F'].shape[0])\n",
    "print(heart_data[heart_data.Sex=='M'].shape[0])"
   ]
  },
  {
   "cell_type": "code",
   "execution_count": null,
   "id": "daf38c21",
   "metadata": {},
   "outputs": [],
   "source": [
    "age_bins = heart_data['Age'].to_numpy()"
   ]
  },
  {
   "cell_type": "code",
   "execution_count": null,
   "id": "5e0e26bd",
   "metadata": {},
   "outputs": [],
   "source": [
    "bins = np.arange(0,120,5)\n",
    "age_bins = np.digitize(age_bins, bins)"
   ]
  },
  {
   "cell_type": "code",
   "execution_count": null,
   "id": "f8c21473",
   "metadata": {},
   "outputs": [],
   "source": [
    "heart_data['age_bin'] = age_bins\n",
    "\n",
    "heart_data.head()"
   ]
  },
  {
   "cell_type": "code",
   "execution_count": null,
   "id": "841b9152",
   "metadata": {},
   "outputs": [],
   "source": [
    "age_dist = heart_data['Age'].to_numpy()\n",
    "\n",
    "plt.hist(age_dist)"
   ]
  },
  {
   "cell_type": "markdown",
   "id": "33a1a4e4",
   "metadata": {},
   "source": [
    "There is a noticeable imbalance across sex and there is an imbalance across age as you would expect"
   ]
  },
  {
   "cell_type": "markdown",
   "id": "113cf684",
   "metadata": {},
   "source": [
    "Not a noticeable imbalance on the target - could be imbalanced across protected variables however\n",
    "\n",
    "How does the target distribution differ across <i>age & sex</i>"
   ]
  },
  {
   "cell_type": "code",
   "execution_count": null,
   "id": "38414d58",
   "metadata": {},
   "outputs": [],
   "source": [
    "print(heart_data[(heart_data.Sex=='F') & (heart_data.HeartDisease==1)].shape[0])\n",
    "print(heart_data[(heart_data.Sex=='F') & (heart_data.HeartDisease==0)].shape[0])\n",
    "print(heart_data[(heart_data.Sex=='M') & (heart_data.HeartDisease==1)].shape[0])\n",
    "print(heart_data[(heart_data.Sex=='M') & (heart_data.HeartDisease==0)].shape[0])"
   ]
  },
  {
   "cell_type": "code",
   "execution_count": null,
   "id": "412a6343",
   "metadata": {},
   "outputs": [],
   "source": [
    "age_dist_hd = heart_data[heart_data.HeartDisease==1]['age_bin']\n",
    "age_dist_healthy = heart_data[heart_data.HeartDisease==0]['age_bin']"
   ]
  },
  {
   "cell_type": "code",
   "execution_count": null,
   "id": "55b0e850",
   "metadata": {},
   "outputs": [],
   "source": [
    "plt.hist(age_dist_hd)"
   ]
  },
  {
   "cell_type": "code",
   "execution_count": null,
   "id": "0e651857",
   "metadata": {},
   "outputs": [],
   "source": [
    "plt.hist(age_dist_healthy)"
   ]
  },
  {
   "cell_type": "markdown",
   "id": "444d9387",
   "metadata": {},
   "source": [
    "The sex & age does have a difference to the heart disease target & these are potentially protected attributes. It is plausible to expect both age & sex to be <i>causally</i> related to heart disease and this is why they are being shown to correlate in the dataset.\n",
    "\n",
    "It is also equally plausible that elderly people are less likely to come into this dataset as they may have died by heart disease before reporting - depends on data collection & where this has come from.\n",
    "\n",
    "Bias like this can have an influence on the results and so mitigating it in synthetic data generation could be beneficial for future downstream tasks. The <b>key question</b> is when should this bias be handled?\n",
    "\n",
    "- Is it reasonable for synthetic dataset providers to produce realistic (but still bias) datasets and simply state limitations & bias present within their data?\n",
    "- Or should synthetic datasets providers try to deliberately mitigate the bias within their set using ML techniques (such as causal modelling)\n",
    "\n",
    "This heart use case is going to explore the latter option using causal modelling - <i>not to say this method is perfect and without limitations</i>"
   ]
  },
  {
   "cell_type": "code",
   "execution_count": null,
   "id": "c8a267b5",
   "metadata": {},
   "outputs": [],
   "source": [
    "heart_data.corr(method=\"spearman\")"
   ]
  },
  {
   "cell_type": "code",
   "execution_count": null,
   "id": "dd5484f3",
   "metadata": {},
   "outputs": [],
   "source": [
    "from scipy.stats import spearmanr\n",
    "\n",
    "correlations = spearmanr(heart_data)[0]\n",
    "fig = plt.figure(figsize=(40,40))\n",
    "ax = fig.add_subplot(111)\n",
    "cax = ax.matshow(correlations, vmin=-1, vmax=1)\n",
    "fig.colorbar(cax)\n",
    "ticks = np.arange(0,12,1)\n",
    "ax.set_xticks(ticks)\n",
    "ax.set_yticks(ticks)\n",
    "ax.set_xticklabels(heart_data.columns)\n",
    "ax.set_yticklabels(heart_data.columns)\n",
    "plt.show()"
   ]
  }
 ],
 "metadata": {
  "kernelspec": {
   "display_name": "Python 3 (ipykernel)",
   "language": "python",
   "name": "python3"
  },
  "language_info": {
   "codemirror_mode": {
    "name": "ipython",
    "version": 3
   },
   "file_extension": ".py",
   "mimetype": "text/x-python",
   "name": "python",
   "nbconvert_exporter": "python",
   "pygments_lexer": "ipython3",
   "version": "3.8.12"
  }
 },
 "nbformat": 4,
 "nbformat_minor": 5
}
